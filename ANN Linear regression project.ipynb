{
 "cells": [
  {
   "cell_type": "code",
   "execution_count": 18,
   "id": "b2df02b4",
   "metadata": {},
   "outputs": [
    {
     "name": "stdout",
     "output_type": "stream",
     "text": [
      "WARNING:tensorflow:From C:\\Users\\vedan\\anaconda3\\lib\\site-packages\\keras\\src\\losses.py:2976: The name tf.losses.sparse_softmax_cross_entropy is deprecated. Please use tf.compat.v1.losses.sparse_softmax_cross_entropy instead.\n",
      "\n"
     ]
    }
   ],
   "source": [
    "import pandas as pd\n",
    "import numpy as np\n",
    "import tensorflow as tf\n",
    "from sklearn.model_selection import train_test_split\n",
    "from sklearn.preprocessing import StandardScaler"
   ]
  },
  {
   "cell_type": "code",
   "execution_count": 19,
   "id": "30c86274",
   "metadata": {},
   "outputs": [],
   "source": [
    "df=pd.read_csv('Fuel_Consumption_2000-2022.csv')"
   ]
  },
  {
   "cell_type": "code",
   "execution_count": 20,
   "id": "0112ef5c",
   "metadata": {},
   "outputs": [
    {
     "data": {
      "text/html": [
       "<div>\n",
       "<style scoped>\n",
       "    .dataframe tbody tr th:only-of-type {\n",
       "        vertical-align: middle;\n",
       "    }\n",
       "\n",
       "    .dataframe tbody tr th {\n",
       "        vertical-align: top;\n",
       "    }\n",
       "\n",
       "    .dataframe thead th {\n",
       "        text-align: right;\n",
       "    }\n",
       "</style>\n",
       "<table border=\"1\" class=\"dataframe\">\n",
       "  <thead>\n",
       "    <tr style=\"text-align: right;\">\n",
       "      <th></th>\n",
       "      <th>YEAR</th>\n",
       "      <th>MAKE</th>\n",
       "      <th>MODEL</th>\n",
       "      <th>VEHICLE CLASS</th>\n",
       "      <th>ENGINE SIZE</th>\n",
       "      <th>CYLINDERS</th>\n",
       "      <th>TRANSMISSION</th>\n",
       "      <th>FUEL</th>\n",
       "      <th>FUEL CONSUMPTION</th>\n",
       "      <th>HWY (L/100 km)</th>\n",
       "      <th>COMB (L/100 km)</th>\n",
       "      <th>COMB (mpg)</th>\n",
       "      <th>EMISSIONS</th>\n",
       "    </tr>\n",
       "  </thead>\n",
       "  <tbody>\n",
       "    <tr>\n",
       "      <th>0</th>\n",
       "      <td>2000</td>\n",
       "      <td>ACURA</td>\n",
       "      <td>1.6EL</td>\n",
       "      <td>COMPACT</td>\n",
       "      <td>1.6</td>\n",
       "      <td>4</td>\n",
       "      <td>A4</td>\n",
       "      <td>X</td>\n",
       "      <td>9.2</td>\n",
       "      <td>6.7</td>\n",
       "      <td>8.1</td>\n",
       "      <td>35</td>\n",
       "      <td>186</td>\n",
       "    </tr>\n",
       "    <tr>\n",
       "      <th>1</th>\n",
       "      <td>2000</td>\n",
       "      <td>ACURA</td>\n",
       "      <td>1.6EL</td>\n",
       "      <td>COMPACT</td>\n",
       "      <td>1.6</td>\n",
       "      <td>4</td>\n",
       "      <td>M5</td>\n",
       "      <td>X</td>\n",
       "      <td>8.5</td>\n",
       "      <td>6.5</td>\n",
       "      <td>7.6</td>\n",
       "      <td>37</td>\n",
       "      <td>175</td>\n",
       "    </tr>\n",
       "    <tr>\n",
       "      <th>2</th>\n",
       "      <td>2000</td>\n",
       "      <td>ACURA</td>\n",
       "      <td>3.2TL</td>\n",
       "      <td>MID-SIZE</td>\n",
       "      <td>3.2</td>\n",
       "      <td>6</td>\n",
       "      <td>AS5</td>\n",
       "      <td>Z</td>\n",
       "      <td>12.2</td>\n",
       "      <td>7.4</td>\n",
       "      <td>10.0</td>\n",
       "      <td>28</td>\n",
       "      <td>230</td>\n",
       "    </tr>\n",
       "    <tr>\n",
       "      <th>3</th>\n",
       "      <td>2000</td>\n",
       "      <td>ACURA</td>\n",
       "      <td>3.5RL</td>\n",
       "      <td>MID-SIZE</td>\n",
       "      <td>3.5</td>\n",
       "      <td>6</td>\n",
       "      <td>A4</td>\n",
       "      <td>Z</td>\n",
       "      <td>13.4</td>\n",
       "      <td>9.2</td>\n",
       "      <td>11.5</td>\n",
       "      <td>25</td>\n",
       "      <td>264</td>\n",
       "    </tr>\n",
       "    <tr>\n",
       "      <th>4</th>\n",
       "      <td>2000</td>\n",
       "      <td>ACURA</td>\n",
       "      <td>INTEGRA</td>\n",
       "      <td>SUBCOMPACT</td>\n",
       "      <td>1.8</td>\n",
       "      <td>4</td>\n",
       "      <td>A4</td>\n",
       "      <td>X</td>\n",
       "      <td>10.0</td>\n",
       "      <td>7.0</td>\n",
       "      <td>8.6</td>\n",
       "      <td>33</td>\n",
       "      <td>198</td>\n",
       "    </tr>\n",
       "  </tbody>\n",
       "</table>\n",
       "</div>"
      ],
      "text/plain": [
       "   YEAR   MAKE    MODEL VEHICLE CLASS  ENGINE SIZE  CYLINDERS TRANSMISSION  \\\n",
       "0  2000  ACURA    1.6EL       COMPACT          1.6          4           A4   \n",
       "1  2000  ACURA    1.6EL       COMPACT          1.6          4           M5   \n",
       "2  2000  ACURA    3.2TL      MID-SIZE          3.2          6          AS5   \n",
       "3  2000  ACURA    3.5RL      MID-SIZE          3.5          6           A4   \n",
       "4  2000  ACURA  INTEGRA    SUBCOMPACT          1.8          4           A4   \n",
       "\n",
       "  FUEL  FUEL CONSUMPTION  HWY (L/100 km)  COMB (L/100 km)  COMB (mpg)  \\\n",
       "0    X               9.2             6.7              8.1          35   \n",
       "1    X               8.5             6.5              7.6          37   \n",
       "2    Z              12.2             7.4             10.0          28   \n",
       "3    Z              13.4             9.2             11.5          25   \n",
       "4    X              10.0             7.0              8.6          33   \n",
       "\n",
       "   EMISSIONS  \n",
       "0        186  \n",
       "1        175  \n",
       "2        230  \n",
       "3        264  \n",
       "4        198  "
      ]
     },
     "execution_count": 20,
     "metadata": {},
     "output_type": "execute_result"
    }
   ],
   "source": [
    "df.head()"
   ]
  },
  {
   "cell_type": "code",
   "execution_count": 21,
   "id": "000432e4",
   "metadata": {},
   "outputs": [
    {
     "data": {
      "text/plain": [
       "(22556, 13)"
      ]
     },
     "execution_count": 21,
     "metadata": {},
     "output_type": "execute_result"
    }
   ],
   "source": [
    "df.shape"
   ]
  },
  {
   "cell_type": "code",
   "execution_count": 5,
   "id": "a1ee00f0",
   "metadata": {},
   "outputs": [
    {
     "name": "stdout",
     "output_type": "stream",
     "text": [
      "<class 'pandas.core.frame.DataFrame'>\n",
      "RangeIndex: 22556 entries, 0 to 22555\n",
      "Data columns (total 13 columns):\n",
      " #   Column            Non-Null Count  Dtype  \n",
      "---  ------            --------------  -----  \n",
      " 0   YEAR              22556 non-null  int64  \n",
      " 1   MAKE              22556 non-null  object \n",
      " 2   MODEL             22556 non-null  object \n",
      " 3   VEHICLE CLASS     22556 non-null  object \n",
      " 4   ENGINE SIZE       22556 non-null  float64\n",
      " 5   CYLINDERS         22556 non-null  int64  \n",
      " 6   TRANSMISSION      22556 non-null  object \n",
      " 7   FUEL              22556 non-null  object \n",
      " 8   FUEL CONSUMPTION  22556 non-null  float64\n",
      " 9   HWY (L/100 km)    22556 non-null  float64\n",
      " 10  COMB (L/100 km)   22556 non-null  float64\n",
      " 11  COMB (mpg)        22556 non-null  int64  \n",
      " 12  EMISSIONS         22556 non-null  int64  \n",
      "dtypes: float64(4), int64(4), object(5)\n",
      "memory usage: 2.2+ MB\n"
     ]
    }
   ],
   "source": [
    "df.info()"
   ]
  },
  {
   "cell_type": "code",
   "execution_count": 7,
   "id": "205b2e1c",
   "metadata": {},
   "outputs": [
    {
     "data": {
      "text/plain": [
       "array([186, 175, 230, 264, 198, 189, 191, 267, 269, 218, 193, 248, 225,\n",
       "       232, 214, 255, 251, 258, 260, 246, 237, 223, 239, 281, 331, 244,\n",
       "       336, 242, 253, 228, 382, 308, 317, 294, 324, 288, 343, 338, 292,\n",
       "       301, 329, 386, 235, 200, 205, 216, 202, 209, 327, 352, 377, 322,\n",
       "       359, 122, 163, 131, 345, 347, 276, 283, 304, 290, 221, 196, 170,\n",
       "       177, 207, 313, 320, 375, 340, 396, 271, 285, 306, 350, 370, 389,\n",
       "       334, 314, 423, 421, 458, 442, 522, 262, 356, 297, 315, 310, 299,\n",
       "       274, 384, 361, 172, 156,  83, 179, 168, 212, 278, 354, 407, 182,\n",
       "       154, 161, 152, 145, 162, 138, 363, 243, 368, 380, 391, 316, 319,\n",
       "       373, 184, 426, 402, 400, 166, 147, 140, 106, 159, 409, 318, 412,\n",
       "       344, 428, 393, 398, 321, 330, 150, 444, 467, 208, 455, 570, 312,\n",
       "       259, 227, 110, 136, 165, 135, 307, 291, 346,  94, 148, 151, 405,\n",
       "       270, 341, 296, 371, 513, 469, 419, 453, 414, 275, 229, 265, 113,\n",
       "       272, 197, 286, 366, 104, 430, 173, 305, 337, 222, 233, 339, 238,\n",
       "       282, 302, 326, 277, 298, 266, 342, 416, 289, 181, 446, 490, 335,\n",
       "       178, 133, 219, 203, 293, 328, 273, 124, 174, 280, 254, 210, 508,\n",
       "       323, 187, 261, 245, 115, 309, 108,  87, 143, 240, 325, 333, 126,\n",
       "       195, 439, 256,  99, 211, 117,  85, 171, 224, 139, 146, 141, 120,\n",
       "       194, 226, 101, 234, 435, 357, 142, 311, 127, 379, 217, 388, 213,\n",
       "       192, 432, 437, 418, 250, 287, 206, 129, 183, 180, 176, 185, 249,\n",
       "       365, 332, 362, 390, 204, 201, 247, 257, 263, 300, 360, 408, 231,\n",
       "       241, 284, 215, 199, 268, 252, 220, 279, 167, 160, 190, 236, 441,\n",
       "       465, 295, 188, 157, 353, 364, 303, 153, 130, 155, 169, 158, 420,\n",
       "       452, 132, 417, 476, 369, 355, 401, 348, 403, 404, 367, 134, 137,\n",
       "       111, 351, 450, 349, 438, 445, 121, 387, 164, 406, 114, 103,  96,\n",
       "       461, 372, 358, 413, 128, 149, 105, 378, 118, 102, 454, 464, 473,\n",
       "       410, 397, 383, 381, 487, 493, 109, 537, 392, 485, 535, 395, 385,\n",
       "       608, 520, 515, 539, 374, 489, 498], dtype=int64)"
      ]
     },
     "execution_count": 7,
     "metadata": {},
     "output_type": "execute_result"
    }
   ],
   "source": [
    "df.EMISSIONS.unique()"
   ]
  },
  {
   "cell_type": "code",
   "execution_count": 8,
   "id": "e3f78b3f",
   "metadata": {},
   "outputs": [
    {
     "data": {
      "text/plain": [
       "YEAR                0\n",
       "MAKE                0\n",
       "MODEL               0\n",
       "VEHICLE CLASS       0\n",
       "ENGINE SIZE         0\n",
       "CYLINDERS           0\n",
       "TRANSMISSION        0\n",
       "FUEL                0\n",
       "FUEL CONSUMPTION    0\n",
       "HWY (L/100 km)      0\n",
       "COMB (L/100 km)     0\n",
       "COMB (mpg)          0\n",
       "EMISSIONS           0\n",
       "dtype: int64"
      ]
     },
     "execution_count": 8,
     "metadata": {},
     "output_type": "execute_result"
    }
   ],
   "source": [
    "df.isna().sum()"
   ]
  },
  {
   "cell_type": "code",
   "execution_count": 22,
   "id": "2e9076ef",
   "metadata": {},
   "outputs": [],
   "source": [
    "X = df[['YEAR', 'ENGINE SIZE', 'CYLINDERS', 'HWY (L/100 km)', 'COMB (L/100 km)', 'COMB (mpg)']]\n",
    "y = df['EMISSIONS']"
   ]
  },
  {
   "cell_type": "code",
   "execution_count": 23,
   "id": "3cf1afb2",
   "metadata": {},
   "outputs": [],
   "source": [
    "X_train, X_test, y_train, y_test = train_test_split(X, y, test_size=0.2, random_state=42)"
   ]
  },
  {
   "cell_type": "code",
   "execution_count": 24,
   "id": "4738845f",
   "metadata": {},
   "outputs": [],
   "source": [
    "scaler = StandardScaler()\n",
    "X_train_scaled = scaler.fit_transform(X_train)\n",
    "X_test_scaled = scaler.transform(X_test)"
   ]
  },
  {
   "cell_type": "code",
   "execution_count": 25,
   "id": "4ea8729b",
   "metadata": {},
   "outputs": [
    {
     "name": "stdout",
     "output_type": "stream",
     "text": [
      "WARNING:tensorflow:From C:\\Users\\vedan\\anaconda3\\lib\\site-packages\\keras\\src\\backend.py:873: The name tf.get_default_graph is deprecated. Please use tf.compat.v1.get_default_graph instead.\n",
      "\n"
     ]
    }
   ],
   "source": [
    "model = tf.keras.Sequential([\n",
    "    tf.keras.layers.Dense(64, activation='relu', input_shape=(X_train_scaled.shape[1],)),\n",
    "    tf.keras.layers.Dense(32, activation='relu'),\n",
    "    tf.keras.layers.Dense(1)  # Output layer with one neuron (for regression)\n",
    "])"
   ]
  },
  {
   "cell_type": "code",
   "execution_count": 26,
   "id": "8d8f4e8b",
   "metadata": {},
   "outputs": [
    {
     "name": "stdout",
     "output_type": "stream",
     "text": [
      "WARNING:tensorflow:From C:\\Users\\vedan\\anaconda3\\lib\\site-packages\\keras\\src\\optimizers\\__init__.py:309: The name tf.train.Optimizer is deprecated. Please use tf.compat.v1.train.Optimizer instead.\n",
      "\n"
     ]
    }
   ],
   "source": [
    "model.compile(optimizer='adam', loss='mean_squared_error')"
   ]
  },
  {
   "cell_type": "code",
   "execution_count": 27,
   "id": "bc6fd0ea",
   "metadata": {},
   "outputs": [
    {
     "name": "stdout",
     "output_type": "stream",
     "text": [
      "Epoch 1/50\n",
      "WARNING:tensorflow:From C:\\Users\\vedan\\anaconda3\\lib\\site-packages\\keras\\src\\utils\\tf_utils.py:492: The name tf.ragged.RaggedTensorValue is deprecated. Please use tf.compat.v1.ragged.RaggedTensorValue instead.\n",
      "\n",
      "452/452 [==============================] - 1s 2ms/step - loss: 30864.4551 - val_loss: 5712.8452\n",
      "Epoch 2/50\n",
      "452/452 [==============================] - 1s 2ms/step - loss: 1866.1304 - val_loss: 515.6070\n",
      "Epoch 3/50\n",
      "452/452 [==============================] - 1s 2ms/step - loss: 416.3461 - val_loss: 376.8603\n",
      "Epoch 4/50\n",
      "452/452 [==============================] - 1s 2ms/step - loss: 351.0452 - val_loss: 331.0950\n",
      "Epoch 5/50\n",
      "452/452 [==============================] - 1s 2ms/step - loss: 326.2395 - val_loss: 307.9345\n",
      "Epoch 6/50\n",
      "452/452 [==============================] - 1s 2ms/step - loss: 307.6926 - val_loss: 291.5682\n",
      "Epoch 7/50\n",
      "452/452 [==============================] - 1s 2ms/step - loss: 293.8415 - val_loss: 277.2604\n",
      "Epoch 8/50\n",
      "452/452 [==============================] - 1s 2ms/step - loss: 279.0475 - val_loss: 263.0820\n",
      "Epoch 9/50\n",
      "452/452 [==============================] - 1s 2ms/step - loss: 266.9280 - val_loss: 249.2883\n",
      "Epoch 10/50\n",
      "452/452 [==============================] - 1s 2ms/step - loss: 257.3094 - val_loss: 242.6755\n",
      "Epoch 11/50\n",
      "452/452 [==============================] - 1s 2ms/step - loss: 248.0805 - val_loss: 226.4944\n",
      "Epoch 12/50\n",
      "452/452 [==============================] - 1s 2ms/step - loss: 238.8916 - val_loss: 224.2571\n",
      "Epoch 13/50\n",
      "452/452 [==============================] - 1s 2ms/step - loss: 231.9213 - val_loss: 210.8129\n",
      "Epoch 14/50\n",
      "452/452 [==============================] - 1s 2ms/step - loss: 223.8775 - val_loss: 203.6957\n",
      "Epoch 15/50\n",
      "452/452 [==============================] - 1s 2ms/step - loss: 218.8112 - val_loss: 199.1858\n",
      "Epoch 16/50\n",
      "452/452 [==============================] - 1s 2ms/step - loss: 212.4698 - val_loss: 196.0186\n",
      "Epoch 17/50\n",
      "452/452 [==============================] - 1s 2ms/step - loss: 208.5891 - val_loss: 190.9556\n",
      "Epoch 18/50\n",
      "452/452 [==============================] - 1s 2ms/step - loss: 202.1568 - val_loss: 189.5156\n",
      "Epoch 19/50\n",
      "452/452 [==============================] - 1s 2ms/step - loss: 200.0937 - val_loss: 185.1907\n",
      "Epoch 20/50\n",
      "452/452 [==============================] - 1s 2ms/step - loss: 195.3572 - val_loss: 181.1448\n",
      "Epoch 21/50\n",
      "452/452 [==============================] - 1s 2ms/step - loss: 190.0281 - val_loss: 178.8225\n",
      "Epoch 22/50\n",
      "452/452 [==============================] - 1s 2ms/step - loss: 187.8744 - val_loss: 176.6493\n",
      "Epoch 23/50\n",
      "452/452 [==============================] - 1s 2ms/step - loss: 184.0425 - val_loss: 172.4959\n",
      "Epoch 24/50\n",
      "452/452 [==============================] - 1s 2ms/step - loss: 181.4145 - val_loss: 166.7191\n",
      "Epoch 25/50\n",
      "452/452 [==============================] - 1s 1ms/step - loss: 177.3547 - val_loss: 164.9950\n",
      "Epoch 26/50\n",
      "452/452 [==============================] - 1s 2ms/step - loss: 175.4171 - val_loss: 163.0320\n",
      "Epoch 27/50\n",
      "452/452 [==============================] - 1s 2ms/step - loss: 172.0828 - val_loss: 161.7165\n",
      "Epoch 28/50\n",
      "452/452 [==============================] - 1s 2ms/step - loss: 171.4622 - val_loss: 160.0991\n",
      "Epoch 29/50\n",
      "452/452 [==============================] - 1s 1ms/step - loss: 168.0899 - val_loss: 165.3451\n",
      "Epoch 30/50\n",
      "452/452 [==============================] - 1s 1ms/step - loss: 165.2915 - val_loss: 154.7429\n",
      "Epoch 31/50\n",
      "452/452 [==============================] - 1s 2ms/step - loss: 162.2877 - val_loss: 155.4119\n",
      "Epoch 32/50\n",
      "452/452 [==============================] - 1s 1ms/step - loss: 161.8678 - val_loss: 151.8941\n",
      "Epoch 33/50\n",
      "452/452 [==============================] - 1s 2ms/step - loss: 158.0639 - val_loss: 160.8988\n",
      "Epoch 34/50\n",
      "452/452 [==============================] - 1s 2ms/step - loss: 157.5488 - val_loss: 145.2029\n",
      "Epoch 35/50\n",
      "452/452 [==============================] - 1s 2ms/step - loss: 153.9740 - val_loss: 143.9255\n",
      "Epoch 36/50\n",
      "452/452 [==============================] - 1s 2ms/step - loss: 152.4853 - val_loss: 142.6791\n",
      "Epoch 37/50\n",
      "452/452 [==============================] - 1s 2ms/step - loss: 149.0672 - val_loss: 140.7919\n",
      "Epoch 38/50\n",
      "452/452 [==============================] - 1s 2ms/step - loss: 148.2235 - val_loss: 138.7406\n",
      "Epoch 39/50\n",
      "452/452 [==============================] - 1s 2ms/step - loss: 147.1469 - val_loss: 137.2638\n",
      "Epoch 40/50\n",
      "452/452 [==============================] - 1s 2ms/step - loss: 143.4044 - val_loss: 137.3665\n",
      "Epoch 41/50\n",
      "452/452 [==============================] - 1s 2ms/step - loss: 141.6427 - val_loss: 138.5952\n",
      "Epoch 42/50\n",
      "452/452 [==============================] - 1s 2ms/step - loss: 140.8282 - val_loss: 137.1633\n",
      "Epoch 43/50\n",
      "452/452 [==============================] - 1s 2ms/step - loss: 138.4782 - val_loss: 132.6869\n",
      "Epoch 44/50\n",
      "452/452 [==============================] - 1s 2ms/step - loss: 136.2858 - val_loss: 133.9196\n",
      "Epoch 45/50\n",
      "452/452 [==============================] - 1s 2ms/step - loss: 134.1996 - val_loss: 130.9883\n",
      "Epoch 46/50\n",
      "452/452 [==============================] - 1s 2ms/step - loss: 134.1215 - val_loss: 129.2986\n",
      "Epoch 47/50\n",
      "452/452 [==============================] - 1s 2ms/step - loss: 131.1644 - val_loss: 126.8607\n",
      "Epoch 48/50\n",
      "452/452 [==============================] - 1s 2ms/step - loss: 129.5577 - val_loss: 126.9622\n",
      "Epoch 49/50\n",
      "452/452 [==============================] - 1s 2ms/step - loss: 128.7394 - val_loss: 125.5539\n",
      "Epoch 50/50\n",
      "452/452 [==============================] - 1s 2ms/step - loss: 127.2856 - val_loss: 122.4622\n"
     ]
    }
   ],
   "source": [
    "history = model.fit(X_train_scaled, y_train, epochs=50, batch_size=32, validation_split=0.2)"
   ]
  },
  {
   "cell_type": "code",
   "execution_count": 28,
   "id": "051ab51c",
   "metadata": {},
   "outputs": [
    {
     "name": "stdout",
     "output_type": "stream",
     "text": [
      "141/141 [==============================] - 0s 1ms/step - loss: 134.4055\n",
      "Mean Squared Error on Test Data: 134.40550231933594\n"
     ]
    }
   ],
   "source": [
    "loss = model.evaluate(X_test_scaled, y_test)\n",
    "print(\"Mean Squared Error on Test Data:\", loss)"
   ]
  },
  {
   "cell_type": "code",
   "execution_count": 29,
   "id": "c5a39201",
   "metadata": {},
   "outputs": [
    {
     "name": "stdout",
     "output_type": "stream",
     "text": [
      "141/141 [==============================] - 0s 1ms/step\n"
     ]
    }
   ],
   "source": [
    "predictions = model.predict(X_test_scaled)"
   ]
  },
  {
   "cell_type": "code",
   "execution_count": 30,
   "id": "77c20dbd",
   "metadata": {},
   "outputs": [
    {
     "data": {
      "image/png": "[encoded data removed]",
      "text/plain": [
       "<Figure size 640x480 with 1 Axes>"
      ]
     },
     "metadata": {},
     "output_type": "display_data"
    }
   ],
   "source": [
    "import matplotlib.pyplot as plt\n",
    "\n",
    "# Plot training & validation loss values\n",
    "plt.plot(history.history['loss'])\n",
    "plt.plot(history.history['val_loss'])\n",
    "plt.title('Model loss')\n",
    "plt.ylabel('Loss')\n",
    "plt.xlabel('Epoch')\n",
    "plt.legend(['Train', 'Validation'], loc='upper left')\n",
    "plt.show()"
   ]
  },
  {
   "cell_type": "code",
   "execution_count": null,
   "id": "12b8bf9d",
   "metadata": {},
   "outputs": [],
   "source": []
  }
 ],
 "metadata": {
  "kernelspec": {
   "display_name": "Python 3 (ipykernel)",
   "language": "python",
   "name": "python3"
  },
  "language_info": {
   "codemirror_mode": {
    "name": "ipython",
    "version": 3
   },
   "file_extension": ".py",
   "mimetype": "text/x-python",
   "name": "python",
   "nbconvert_exporter": "python",
   "pygments_lexer": "ipython3",
   "version": "3.10.9"
  }
 },
 "nbformat": 4,
 "nbformat_minor": 5
}
